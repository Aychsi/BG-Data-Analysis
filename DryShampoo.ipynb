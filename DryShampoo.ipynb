{
 "cells": [
  {
   "cell_type": "markdown",
   "metadata": {},
   "source": [
    "# Text Scraping and Sentiment Analysis of Dry Shampoo Reviews on Amazon"
   ]
  },
  {
   "cell_type": "markdown",
   "metadata": {},
   "source": [
    "### First, we will import the necessary packages and define certain functions to help us scrape Amazon Reviews"
   ]
  },
  {
   "cell_type": "code",
   "execution_count": null,
   "metadata": {},
   "outputs": [],
   "source": [
    "import requests\n",
    "from bs4 import BeautifulSoup\n",
    "import pandas as pd\n",
    "\n",
    "reviewlist = []\n",
    "\n",
    "def get_soup(url):\n",
    "    r = requests.get('http://localhost:8050/render.html', params={'url': url, 'wait': 2})\n",
    "    soup = BeautifulSoup(r.text, 'html.parser')\n",
    "    return soup\n",
    "\n",
    "def get_reviews(soup):\n",
    "    reviews = soup.find_all('div', {'data-hook': 'review'})\n",
    "    try:\n",
    "        for item in reviews:\n",
    "            review = {\n",
    "            'product': soup.title.text.replace('Amazon.co.uk:Customer reviews:', '').strip(),\n",
    "            'title': item.find('a', {'data-hook': 'review-title'}).text.strip(),\n",
    "            'rating':  float(item.find('i', {'data-hook': 'review-star-rating'}).text.replace('out of 5 stars', '').strip()),\n",
    "            'body': item.find('span', {'data-hook': 'review-body'}).text.strip(),\n",
    "            }\n",
    "            reviewlist.append(review)\n",
    "    except:\n",
    "        pass\n"
   ]
  },
  {
   "cell_type": "markdown",
   "metadata": {},
   "source": [
    "### Now we will enter the specific URLs. This one is for the Batiste Waterless Cleansing Foam Shampoo"
   ]
  },
  {
   "cell_type": "code",
   "execution_count": 5,
   "metadata": {},
   "outputs": [
    {
     "name": "stdout",
     "output_type": "stream",
     "text": [
      "Getting page: 1\n",
      "10\n",
      "Getting page: 2\n",
      "20\n",
      "Getting page: 3\n",
      "30\n",
      "Getting page: 4\n",
      "40\n",
      "Getting page: 5\n",
      "50\n",
      "Getting page: 6\n",
      "60\n",
      "Getting page: 7\n",
      "70\n",
      "Getting page: 8\n",
      "80\n",
      "Getting page: 9\n",
      "90\n",
      "Getting page: 10\n",
      "100\n",
      "Getting page: 11\n",
      "110\n",
      "Getting page: 12\n",
      "120\n",
      "Getting page: 13\n",
      "122\n",
      "Fin.\n"
     ]
    }
   ],
   "source": [
    "for x in range(1,999):\n",
    "    soup = get_soup(f'https://www.amazon.com/Batiste-Waterless-Cleansing-Cleanse-Coconut/product-reviews/B081TV14H1/ref=cm_cr_arp_d_viewopt_rvwer?ie=UTF8&reviewerType=avp_only_reviews&pageNumber={x}')\n",
    "    print(f'Getting page: {x}')\n",
    "    get_reviews(soup)\n",
    "    print(len(reviewlist))\n",
    "    if not soup.find('li', {'class': 'a-disabled a-last'}):\n",
    "        pass\n",
    "    else:\n",
    "        break\n",
    "\n",
    "df_batistefoam = pd.DataFrame(reviewlist)\n",
    "df_batistefoam.to_excel('batistefoam.xlsx', index=False)\n",
    "print('Fin.')"
   ]
  },
  {
   "cell_type": "markdown",
   "metadata": {},
   "source": [
    "## This is for the Batiste Dry Shampoo"
   ]
  },
  {
   "cell_type": "code",
   "execution_count": 52,
   "metadata": {},
   "outputs": [
    {
     "name": "stdout",
     "output_type": "stream",
     "text": [
      "Getting page: 0\n",
      "10\n",
      "Getting page: 1\n",
      "20\n",
      "Getting page: 2\n",
      "30\n",
      "Getting page: 3\n",
      "40\n",
      "Getting page: 4\n",
      "50\n",
      "Getting page: 5\n",
      "60\n",
      "Getting page: 6\n",
      "70\n",
      "Getting page: 7\n",
      "80\n",
      "Getting page: 8\n",
      "90\n",
      "Getting page: 9\n",
      "100\n",
      "Getting page: 10\n",
      "110\n",
      "Getting page: 11\n",
      "120\n",
      "Getting page: 12\n",
      "130\n",
      "Getting page: 13\n",
      "140\n",
      "Getting page: 14\n",
      "150\n",
      "Getting page: 15\n",
      "160\n",
      "Getting page: 16\n",
      "170\n",
      "Getting page: 17\n",
      "180\n",
      "Getting page: 18\n",
      "190\n",
      "Getting page: 19\n",
      "200\n",
      "Getting page: 20\n",
      "210\n",
      "Getting page: 21\n",
      "220\n",
      "Getting page: 22\n",
      "230\n",
      "Getting page: 23\n",
      "240\n",
      "Getting page: 24\n",
      "250\n",
      "Getting page: 25\n",
      "260\n",
      "Getting page: 26\n",
      "270\n",
      "Getting page: 27\n",
      "280\n",
      "Getting page: 28\n",
      "290\n",
      "Getting page: 29\n",
      "300\n",
      "Fin.\n"
     ]
    }
   ],
   "source": [
    "for x in range(30):\n",
    "    soup = get_soup(f'https://www.amazon.com/Batiste-Shampoo-Clean-Classic-Original/product-reviews/B007JYNGWY/ref=cm_cr_arp_d_paging_btm_next_2?ie=UTF8&reviewerType=all_reviews&pageNumber={x}')\n",
    "    print(f'Getting page: {x}')\n",
    "    get_reviews(soup)\n",
    "    print(len(reviewlist))\n",
    "    if not soup.find('li', {'class': 'a-disabled a-last'}):\n",
    "        pass\n",
    "    else:\n",
    "        break\n",
    "\n",
    "df_batiste = pd.DataFrame(reviewlist)\n",
    "df_batiste.to_excel('batiste.xlsx', index=False)\n",
    "print('Fin.')"
   ]
  },
  {
   "cell_type": "markdown",
   "metadata": {},
   "source": [
    "## This is for Dove "
   ]
  },
  {
   "cell_type": "code",
   "execution_count": 55,
   "metadata": {},
   "outputs": [
    {
     "name": "stdout",
     "output_type": "stream",
     "text": [
      "Getting page: 0\n",
      "10\n",
      "Getting page: 1\n",
      "20\n",
      "Getting page: 2\n",
      "30\n",
      "Getting page: 3\n",
      "40\n",
      "Getting page: 4\n",
      "50\n",
      "Getting page: 5\n",
      "60\n",
      "Getting page: 6\n",
      "70\n",
      "Getting page: 7\n",
      "80\n",
      "Getting page: 8\n",
      "90\n",
      "Getting page: 9\n",
      "100\n",
      "Getting page: 10\n",
      "110\n",
      "Getting page: 11\n",
      "120\n",
      "Getting page: 12\n",
      "130\n",
      "Getting page: 13\n",
      "140\n",
      "Getting page: 14\n",
      "150\n",
      "Getting page: 15\n",
      "160\n",
      "Getting page: 16\n",
      "170\n",
      "Getting page: 17\n",
      "180\n",
      "Getting page: 18\n",
      "190\n",
      "Getting page: 19\n",
      "200\n",
      "Getting page: 20\n",
      "210\n",
      "Getting page: 21\n",
      "220\n",
      "Getting page: 22\n",
      "230\n",
      "Getting page: 23\n",
      "240\n",
      "Getting page: 24\n",
      "250\n",
      "Getting page: 25\n",
      "260\n",
      "Getting page: 26\n",
      "270\n",
      "Getting page: 27\n",
      "280\n",
      "Getting page: 28\n",
      "290\n",
      "Getting page: 29\n",
      "300\n",
      "Fin.\n"
     ]
    }
   ],
   "source": [
    "for x in range(30):\n",
    "    soup = get_soup(f'https://www.amazon.com/Dove-Refresh-Care-Shampoo-Fullness/product-reviews/B006T8BXF8/ref=cm_cr_getr_d_paging_btm_next_2?ie=UTF8&reviewerType=avp_only_reviews&pageNumber={x}')\n",
    "    print(f'Getting page: {x}')\n",
    "    get_reviews(soup)\n",
    "    print(len(reviewlist))\n",
    "    if not soup.find('li', {'class': 'a-disabled a-last'}):\n",
    "        pass\n",
    "    else:\n",
    "        break\n",
    "\n",
    "df_dove = pd.DataFrame(reviewlist)\n",
    "df_dove.to_excel('dove.xlsx', index=False)\n",
    "print('Fin.')"
   ]
  },
  {
   "cell_type": "markdown",
   "metadata": {},
   "source": [
    "## This is for Living Proof"
   ]
  },
  {
   "cell_type": "code",
   "execution_count": 57,
   "metadata": {},
   "outputs": [
    {
     "name": "stdout",
     "output_type": "stream",
     "text": [
      "Getting page: 0\n",
      "10\n",
      "Getting page: 1\n",
      "20\n",
      "Getting page: 2\n",
      "30\n",
      "Getting page: 3\n",
      "40\n",
      "Getting page: 4\n",
      "50\n",
      "Getting page: 5\n",
      "60\n",
      "Getting page: 6\n",
      "70\n",
      "Getting page: 7\n",
      "80\n",
      "Getting page: 8\n",
      "90\n",
      "Getting page: 9\n",
      "100\n",
      "Getting page: 10\n",
      "110\n",
      "Getting page: 11\n",
      "120\n",
      "Getting page: 12\n",
      "130\n",
      "Getting page: 13\n",
      "140\n",
      "Getting page: 14\n",
      "150\n",
      "Getting page: 15\n",
      "160\n",
      "Getting page: 16\n",
      "170\n",
      "Getting page: 17\n",
      "180\n",
      "Getting page: 18\n",
      "190\n",
      "Getting page: 19\n",
      "200\n",
      "Getting page: 20\n",
      "210\n",
      "Getting page: 21\n",
      "220\n",
      "Getting page: 22\n",
      "230\n",
      "Getting page: 23\n",
      "240\n",
      "Getting page: 24\n",
      "250\n",
      "Getting page: 25\n",
      "260\n",
      "Getting page: 26\n",
      "270\n",
      "Getting page: 27\n",
      "280\n",
      "Getting page: 28\n",
      "290\n",
      "Getting page: 29\n",
      "300\n",
      "Fin.\n"
     ]
    }
   ],
   "source": [
    "for x in range(30):\n",
    "    soup = get_soup(f'https://www.amazon.com/Living-proof-Perfect-Hair-Shampoo/product-reviews/B0858KYNY2/ref=cm_cr_getr_d_paging_btm_next_2?ie=UTF8&reviewerType=avp_only_reviews&pageNumber={x}')\n",
    "    print(f'Getting page: {x}')\n",
    "    get_reviews(soup)\n",
    "    print(len(reviewlist))\n",
    "    if not soup.find('li', {'class': 'a-disabled a-last'}):\n",
    "        pass\n",
    "    else:\n",
    "        break\n",
    "\n",
    "df_lp = pd.DataFrame(reviewlist)\n",
    "df_lp.to_excel('livingproof.xlsx', index=False)\n",
    "print('Fin.')"
   ]
  },
  {
   "cell_type": "code",
   "execution_count": 84,
   "metadata": {},
   "outputs": [
    {
     "data": {
      "text/plain": [
       "['product', 'title', 'rating', 'body']"
      ]
     },
     "execution_count": 84,
     "metadata": {},
     "output_type": "execute_result"
    }
   ],
   "source": [
    "df_batiste.columns.to_list()"
   ]
  },
  {
   "cell_type": "markdown",
   "metadata": {},
   "source": [
    ">Since we are trying to find how well each dry shampoo delivers on certain variables, we will create a method to find the number of times a keyword is used in a review. Any reviews that contain that keyword will then be divided by the total number of reviews to get a ratio."
   ]
  },
  {
   "cell_type": "code",
   "execution_count": 68,
   "metadata": {},
   "outputs": [],
   "source": [
    "# Function for Getting the Ratio of a keyword.\n",
    "def find_word_ratio(words, df):\n",
    "    count = 0\n",
    "    for i in range(len(df.index)):\n",
    "        if any(x in df['body'][i] for x in words):\n",
    "            count = count + 1\n",
    "        else:\n",
    "            continue\n",
    "    return(count/len(df.index))"
   ]
  },
  {
   "cell_type": "markdown",
   "metadata": {},
   "source": [
    "## However, this is not enough. How will we know if the word is used positively or negatively? We can use a package called TextBlob to see if the word is used in a positive context or a negative context."
   ]
  },
  {
   "cell_type": "code",
   "execution_count": null,
   "metadata": {},
   "outputs": [],
   "source": [
    "from textblob import TextBlob\n",
    "import nltk\n",
    "nltk.download('brown')\n",
    "nltk.download('punkt')\n",
    "nltk.download('averaged_perceptron_tagger')"
   ]
  },
  {
   "cell_type": "markdown",
   "metadata": {},
   "source": [
    "## The code below will filter out words that are tied to negative connations."
   ]
  },
  {
   "cell_type": "code",
   "execution_count": null,
   "metadata": {},
   "outputs": [],
   "source": [
    "def get_avg_sent(df):\n",
    "    df = df.reset_index(drop= True)\n",
    "    pol_count = 0\n",
    "    subj_count = 0\n",
    "    for i in range(len(df.index)):\n",
    "        blob = TextBlob(df['body'][i])\n",
    "        blob.correct()\n",
    "        pol_count = pol_count + blob.polarity\n",
    "        subj_count = subj_count + blob.subjectivity\n",
    "    print(pol_count/len(df.index))\n",
    "    print(subj_count/len(df.index))\n",
    "        \n",
    "        \n",
    "get_avg_sent(dataframe)"
   ]
  },
  {
   "cell_type": "markdown",
   "metadata": {},
   "source": [
    "## Now we can begin finding the ratios of our key words."
   ]
  },
  {
   "cell_type": "markdown",
   "metadata": {},
   "source": [
    "## Ease of Use"
   ]
  },
  {
   "cell_type": "markdown",
   "metadata": {},
   "source": [
    "### Batiste"
   ]
  },
  {
   "cell_type": "code",
   "execution_count": 126,
   "metadata": {},
   "outputs": [
    {
     "data": {
      "text/plain": [
       "0.056666666666666664"
      ]
     },
     "execution_count": 126,
     "metadata": {},
     "output_type": "execute_result"
    }
   ],
   "source": [
    "find_word_ratio([' ' + 'eas', 'simple'], df_batiste)"
   ]
  },
  {
   "cell_type": "markdown",
   "metadata": {},
   "source": [
    "> As we can see here, 2% of the reviews for Baptiste mentioned that it was easy to use."
   ]
  },
  {
   "cell_type": "markdown",
   "metadata": {},
   "source": [
    "### Dove"
   ]
  },
  {
   "cell_type": "code",
   "execution_count": 123,
   "metadata": {},
   "outputs": [
    {
     "data": {
      "text/plain": [
       "0.05"
      ]
     },
     "execution_count": 123,
     "metadata": {},
     "output_type": "execute_result"
    }
   ],
   "source": [
    "find_word_ratio([' ' + 'eas', 'simple'], df_dove)"
   ]
  },
  {
   "cell_type": "markdown",
   "metadata": {},
   "source": [
    "### Living Proof"
   ]
  },
  {
   "cell_type": "code",
   "execution_count": 124,
   "metadata": {},
   "outputs": [
    {
     "data": {
      "text/plain": [
       "0.056666666666666664"
      ]
     },
     "execution_count": 124,
     "metadata": {},
     "output_type": "execute_result"
    }
   ],
   "source": [
    "find_word_ratio([' ' + 'eas', 'simple'], df_lp)"
   ]
  },
  {
   "cell_type": "markdown",
   "metadata": {},
   "source": [
    "## Effectiveness"
   ]
  },
  {
   "cell_type": "markdown",
   "metadata": {},
   "source": [
    "### Batiste"
   ]
  },
  {
   "cell_type": "code",
   "execution_count": 94,
   "metadata": {},
   "outputs": [
    {
     "data": {
      "text/plain": [
       "0.22666666666666666"
      ]
     },
     "execution_count": 94,
     "metadata": {},
     "output_type": "execute_result"
    }
   ],
   "source": [
    "find_word_ratio([' ' + 'works', 'effective', 'clean'], df_batiste)"
   ]
  },
  {
   "cell_type": "markdown",
   "metadata": {},
   "source": [
    "### Dove"
   ]
  },
  {
   "cell_type": "code",
   "execution_count": 95,
   "metadata": {},
   "outputs": [
    {
     "data": {
      "text/plain": [
       "0.25"
      ]
     },
     "execution_count": 95,
     "metadata": {},
     "output_type": "execute_result"
    }
   ],
   "source": [
    "find_word_ratio([' ' + 'works', 'effective', 'clean'], df_dove)"
   ]
  },
  {
   "cell_type": "markdown",
   "metadata": {},
   "source": [
    "### Living Proof"
   ]
  },
  {
   "cell_type": "code",
   "execution_count": 96,
   "metadata": {},
   "outputs": [
    {
     "data": {
      "text/plain": [
       "0.31333333333333335"
      ]
     },
     "execution_count": 96,
     "metadata": {},
     "output_type": "execute_result"
    }
   ],
   "source": [
    "find_word_ratio([' ' + 'works', 'effective', 'clean'], df_lp)"
   ]
  },
  {
   "cell_type": "markdown",
   "metadata": {},
   "source": [
    "## Hygiene and Safety"
   ]
  },
  {
   "cell_type": "markdown",
   "metadata": {},
   "source": [
    "### Batiste"
   ]
  },
  {
   "cell_type": "code",
   "execution_count": 118,
   "metadata": {},
   "outputs": [
    {
     "data": {
      "text/plain": [
       "0.16"
      ]
     },
     "execution_count": 118,
     "metadata": {},
     "output_type": "execute_result"
    }
   ],
   "source": [
    "find_word_ratio(['clean', 'safe', 'friend', 'hygiene', 'green', 'no residue'], df_batiste)"
   ]
  },
  {
   "cell_type": "markdown",
   "metadata": {},
   "source": [
    "### Dove"
   ]
  },
  {
   "cell_type": "code",
   "execution_count": 119,
   "metadata": {},
   "outputs": [
    {
     "data": {
      "text/plain": [
       "0.13333333333333333"
      ]
     },
     "execution_count": 119,
     "metadata": {},
     "output_type": "execute_result"
    }
   ],
   "source": [
    "find_word_ratio(['clean', 'safe', 'friend', 'hygiene', 'green', 'no residue'], df_dove)"
   ]
  },
  {
   "cell_type": "markdown",
   "metadata": {},
   "source": [
    "### Living Proof"
   ]
  },
  {
   "cell_type": "code",
   "execution_count": 120,
   "metadata": {},
   "outputs": [
    {
     "data": {
      "text/plain": [
       "0.18333333333333332"
      ]
     },
     "execution_count": 120,
     "metadata": {},
     "output_type": "execute_result"
    }
   ],
   "source": [
    "find_word_ratio(['clean', 'safe', 'friend', 'hygiene', 'green', 'no residue'], df_lp)"
   ]
  },
  {
   "cell_type": "markdown",
   "metadata": {},
   "source": [
    "## Scent"
   ]
  },
  {
   "cell_type": "markdown",
   "metadata": {},
   "source": [
    "> Since there is no way to see if the reviews have a positive attitude on scent just be searching key words, we will first sort by all reviews that are 4 and 5 stars. Then we can search the keywords for scent so that we know that these words are more likely to be positively correlated to scent."
   ]
  },
  {
   "cell_type": "markdown",
   "metadata": {},
   "source": [
    "### Batiste"
   ]
  },
  {
   "cell_type": "code",
   "execution_count": 117,
   "metadata": {},
   "outputs": [
    {
     "data": {
      "text/plain": [
       "0.19272727272727272"
      ]
     },
     "execution_count": 117,
     "metadata": {},
     "output_type": "execute_result"
    }
   ],
   "source": [
    "df_batiste_scent = df_batiste[df_batiste['rating'] >= 4.0]\n",
    "df_batiste_scent = df_batiste_scent.reset_index(drop=True)\n",
    "\n",
    "find_word_ratio(['scent', 'smell'], df_batiste_scent)"
   ]
  },
  {
   "cell_type": "markdown",
   "metadata": {},
   "source": [
    "### Dove"
   ]
  },
  {
   "cell_type": "code",
   "execution_count": 116,
   "metadata": {},
   "outputs": [
    {
     "data": {
      "text/plain": [
       "0.5756097560975609"
      ]
     },
     "execution_count": 116,
     "metadata": {},
     "output_type": "execute_result"
    }
   ],
   "source": [
    "df_dove_scent = df_dove[df_dove['rating'] >= 4.0]\n",
    "df_dove_scent = df_dove_scent.reset_index(drop=True)\n",
    "\n",
    "find_word_ratio(['scent', 'smell'], df_dove_scent)"
   ]
  },
  {
   "cell_type": "markdown",
   "metadata": {},
   "source": [
    "### Living Proof"
   ]
  },
  {
   "cell_type": "code",
   "execution_count": 97,
   "metadata": {},
   "outputs": [
    {
     "data": {
      "text/plain": [
       "0.4945054945054945"
      ]
     },
     "execution_count": 97,
     "metadata": {},
     "output_type": "execute_result"
    }
   ],
   "source": [
    "df_lp_scent = df_lp[df_lp['rating'] >= 4.0]\n",
    "df_lp_scent = df_lp_scent.reset_index(drop=True)\n",
    "\n",
    "find_word_ratio(['scent', 'smell'], df_lp_scent)"
   ]
  },
  {
   "cell_type": "markdown",
   "metadata": {},
   "source": [
    "## Volume"
   ]
  },
  {
   "cell_type": "markdown",
   "metadata": {},
   "source": [
    "### Batiste"
   ]
  },
  {
   "cell_type": "code",
   "execution_count": 98,
   "metadata": {},
   "outputs": [
    {
     "data": {
      "text/plain": [
       "0.06666666666666667"
      ]
     },
     "execution_count": 98,
     "metadata": {},
     "output_type": "execute_result"
    }
   ],
   "source": [
    "find_word_ratio(['volume'], df_batiste)"
   ]
  },
  {
   "cell_type": "markdown",
   "metadata": {},
   "source": [
    "### Dove"
   ]
  },
  {
   "cell_type": "code",
   "execution_count": 99,
   "metadata": {},
   "outputs": [
    {
     "data": {
      "text/plain": [
       "0.24666666666666667"
      ]
     },
     "execution_count": 99,
     "metadata": {},
     "output_type": "execute_result"
    }
   ],
   "source": [
    "find_word_ratio(['volume'], df_dove)"
   ]
  },
  {
   "cell_type": "markdown",
   "metadata": {},
   "source": [
    "### Living Proof"
   ]
  },
  {
   "cell_type": "code",
   "execution_count": 100,
   "metadata": {},
   "outputs": [
    {
     "data": {
      "text/plain": [
       "0.09"
      ]
     },
     "execution_count": 100,
     "metadata": {},
     "output_type": "execute_result"
    }
   ],
   "source": [
    "find_word_ratio(['volume'], df_lp)"
   ]
  },
  {
   "cell_type": "markdown",
   "metadata": {},
   "source": [
    "## Real Time"
   ]
  },
  {
   "cell_type": "markdown",
   "metadata": {},
   "source": [
    "### Batiste"
   ]
  },
  {
   "cell_type": "code",
   "execution_count": 132,
   "metadata": {},
   "outputs": [
    {
     "data": {
      "text/plain": [
       "0.01"
      ]
     },
     "execution_count": 132,
     "metadata": {},
     "output_type": "execute_result"
    }
   ],
   "source": [
    "find_word_ratio(['portable', 'anywhere', 'anytime', 'carry'], df_batiste)"
   ]
  },
  {
   "cell_type": "markdown",
   "metadata": {},
   "source": [
    "### Dove"
   ]
  },
  {
   "cell_type": "code",
   "execution_count": 133,
   "metadata": {},
   "outputs": [
    {
     "data": {
      "text/plain": [
       "0.006666666666666667"
      ]
     },
     "execution_count": 133,
     "metadata": {},
     "output_type": "execute_result"
    }
   ],
   "source": [
    "find_word_ratio(['portable', 'anywhere', 'anytime', 'carry'], df_dove)"
   ]
  },
  {
   "cell_type": "markdown",
   "metadata": {},
   "source": [
    "### Living Proof"
   ]
  },
  {
   "cell_type": "code",
   "execution_count": 134,
   "metadata": {},
   "outputs": [
    {
     "data": {
      "text/plain": [
       "0.0"
      ]
     },
     "execution_count": 134,
     "metadata": {},
     "output_type": "execute_result"
    }
   ],
   "source": [
    "find_word_ratio(['portable', 'anywhere', 'anytime', 'carry'], df_lp)"
   ]
  }
 ],
 "metadata": {
  "kernelspec": {
   "display_name": "Python 3",
   "language": "python",
   "name": "python3"
  },
  "language_info": {
   "codemirror_mode": {
    "name": "ipython",
    "version": 3
   },
   "file_extension": ".py",
   "mimetype": "text/x-python",
   "name": "python",
   "nbconvert_exporter": "python",
   "pygments_lexer": "ipython3",
   "version": "3.7.4"
  }
 },
 "nbformat": 4,
 "nbformat_minor": 2
}
